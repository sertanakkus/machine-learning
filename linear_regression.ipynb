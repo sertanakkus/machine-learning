{
 "cells": [
  {
   "cell_type": "code",
   "execution_count": 576,
   "metadata": {},
   "outputs": [],
   "source": [
    "import numpy as np\n",
    "import pandas as pd\n",
    "import matplotlib.pyplot as plt"
   ]
  },
  {
   "cell_type": "markdown",
   "metadata": {},
   "source": [
    "##  Generate data"
   ]
  },
  {
   "cell_type": "code",
   "execution_count": 652,
   "metadata": {},
   "outputs": [],
   "source": [
    "from sklearn.datasets import make_regression"
   ]
  },
  {
   "cell_type": "code",
   "execution_count": 655,
   "metadata": {},
   "outputs": [],
   "source": [
    "X_arr, y_arr = make_regression(n_samples=100, n_features=1, noise=10, random_state=42)"
   ]
  },
  {
   "cell_type": "markdown",
   "metadata": {},
   "source": [
    "## Load into DataFrame"
   ]
  },
  {
   "cell_type": "code",
   "execution_count": 656,
   "metadata": {},
   "outputs": [],
   "source": [
    "X_df = pd.DataFrame(data=X_arr, columns=['X'])"
   ]
  },
  {
   "cell_type": "code",
   "execution_count": 657,
   "metadata": {},
   "outputs": [],
   "source": [
    "y_df = pd.DataFrame(data=y_arr, columns=['y'])"
   ]
  },
  {
   "cell_type": "code",
   "execution_count": 658,
   "metadata": {},
   "outputs": [
    {
     "data": {
      "text/html": [
       "<div>\n",
       "<style scoped>\n",
       "    .dataframe tbody tr th:only-of-type {\n",
       "        vertical-align: middle;\n",
       "    }\n",
       "\n",
       "    .dataframe tbody tr th {\n",
       "        vertical-align: top;\n",
       "    }\n",
       "\n",
       "    .dataframe thead th {\n",
       "        text-align: right;\n",
       "    }\n",
       "</style>\n",
       "<table border=\"1\" class=\"dataframe\">\n",
       "  <thead>\n",
       "    <tr style=\"text-align: right;\">\n",
       "      <th></th>\n",
       "      <th>X</th>\n",
       "      <th>y</th>\n",
       "    </tr>\n",
       "  </thead>\n",
       "  <tbody>\n",
       "    <tr>\n",
       "      <th>0</th>\n",
       "      <td>0.931280</td>\n",
       "      <td>50.779929</td>\n",
       "    </tr>\n",
       "    <tr>\n",
       "      <th>1</th>\n",
       "      <td>0.087047</td>\n",
       "      <td>-10.065270</td>\n",
       "    </tr>\n",
       "    <tr>\n",
       "      <th>2</th>\n",
       "      <td>-1.057711</td>\n",
       "      <td>-34.918392</td>\n",
       "    </tr>\n",
       "    <tr>\n",
       "      <th>3</th>\n",
       "      <td>0.314247</td>\n",
       "      <td>10.526743</td>\n",
       "    </tr>\n",
       "    <tr>\n",
       "      <th>4</th>\n",
       "      <td>-0.479174</td>\n",
       "      <td>-17.738377</td>\n",
       "    </tr>\n",
       "  </tbody>\n",
       "</table>\n",
       "</div>"
      ],
      "text/plain": [
       "          X          y\n",
       "0  0.931280  50.779929\n",
       "1  0.087047 -10.065270\n",
       "2 -1.057711 -34.918392\n",
       "3  0.314247  10.526743\n",
       "4 -0.479174 -17.738377"
      ]
     },
     "execution_count": 658,
     "metadata": {},
     "output_type": "execute_result"
    }
   ],
   "source": [
    "df = pd.concat([X_df, y_df], axis=1)\n",
    "X = df[[\"X\"]].values\n",
    "y = df[[\"y\"]].values\n",
    "df.head()"
   ]
  },
  {
   "cell_type": "code",
   "execution_count": 659,
   "metadata": {},
   "outputs": [
    {
     "data": {
      "image/png": "[encoded data removed]",
      "text/plain": [
       "<Figure size 432x288 with 1 Axes>"
      ]
     },
     "metadata": {
      "needs_background": "light"
     },
     "output_type": "display_data"
    }
   ],
   "source": [
    "plt.scatter(X, y)\n",
    "plt.show()"
   ]
  },
  {
   "cell_type": "markdown",
   "metadata": {},
   "source": [
    "## Split Data"
   ]
  },
  {
   "cell_type": "code",
   "execution_count": 660,
   "metadata": {},
   "outputs": [],
   "source": [
    "from sklearn.model_selection import train_test_split\n",
    "\n",
    "X_train, X_test, y_train, y_test = train_test_split(X, y, test_size=0.2)"
   ]
  },
  {
   "cell_type": "code",
   "execution_count": 661,
   "metadata": {},
   "outputs": [
    {
     "data": {
      "text/plain": [
       "((80, 1), (80, 1))"
      ]
     },
     "execution_count": 661,
     "metadata": {},
     "output_type": "execute_result"
    }
   ],
   "source": [
    "X_train.shape, y_train.shape"
   ]
  },
  {
   "cell_type": "code",
   "execution_count": 662,
   "metadata": {},
   "outputs": [
    {
     "data": {
      "text/plain": [
       "((20, 1), (20, 1))"
      ]
     },
     "execution_count": 662,
     "metadata": {},
     "output_type": "execute_result"
    }
   ],
   "source": [
    "X_test.shape, y_test.shape"
   ]
  },
  {
   "cell_type": "markdown",
   "metadata": {},
   "source": [
    "##  Implementing Gradient Descent"
   ]
  },
  {
   "cell_type": "markdown",
   "metadata": {},
   "source": [
    "Formula:\n",
    "### $ \\theta := \\theta - \\alpha {\\partial \\over \\partial \\theta} J(\\theta) $"
   ]
  },
  {
   "cell_type": "markdown",
   "metadata": {},
   "source": [
    "### to implement gradient descent algorithm we need to follow 4 steps: \n",
    "1. Randomly initialize the bias and the weight theta\n",
    "2. Calculate predicted value of y that is Y given the bias and the weight\n",
    "3. Calculate the cost function from predicted and actual values of Y\n",
    "4. Calculate gradient and the weights"
   ]
  },
  {
   "cell_type": "markdown",
   "metadata": {},
   "source": [
    "firstly take a random value for bias and weights"
   ]
  },
  {
   "cell_type": "code",
   "execution_count": 663,
   "metadata": {},
   "outputs": [
    {
     "name": "stdout",
     "output_type": "stream",
     "text": [
      "\n",
      "        Bias: [0.36729878]\n",
      "        Weights: [[0.51498986]]\n",
      "      \n"
     ]
    }
   ],
   "source": [
    "import random\n",
    "\n",
    "def initialize(input_dim, output_dim):\n",
    "    b = np.random.rand(input_dim, output_dim).reshape((1,))\n",
    "    theta = np.random.rand(input_dim, output_dim)\n",
    "    return b, theta\n",
    "\n",
    "b, theta = initialize(X_train.shape[1], y_train.shape[1])\n",
    "\n",
    "print('''\n",
    "        Bias: {}\n",
    "        Weights: {}\n",
    "      '''.format(b, theta))"
   ]
  },
  {
   "cell_type": "markdown",
   "metadata": {},
   "source": [
    "###    Predicted y\n",
    "#### $ \\hat{y_i} = \\theta*X + b $"
   ]
  },
  {
   "cell_type": "code",
   "execution_count": 664,
   "metadata": {},
   "outputs": [],
   "source": [
    "def predict_y(b, theta, X):\n",
    "    return b + np.dot(X, theta)"
   ]
  },
  {
   "cell_type": "markdown",
   "metadata": {},
   "source": [
    "###  Cost Function (MSE)\n",
    "#### $ J(\\theta) := {1 \\over m} \\sum \\limits _{i = 1}^{m} (y_i - \\hat{y_i})^2 $"
   ]
  },
  {
   "cell_type": "code",
   "execution_count": 665,
   "metadata": {},
   "outputs": [
    {
     "data": {
      "text/plain": [
       "1466.0797328876915"
      ]
     },
     "execution_count": 665,
     "metadata": {},
     "output_type": "execute_result"
    }
   ],
   "source": [
    "import math\n",
    "\n",
    "# MSE \n",
    "def get_cost(y, y_hat):\n",
    "    return (1/len(y)) * np.sum((y - y_hat)**2)\n",
    "\n",
    "y_hat = predict_y(b, theta, X_train)\n",
    "\n",
    "get_cost(y_train, y_hat)"
   ]
  },
  {
   "cell_type": "markdown",
   "metadata": {},
   "source": [
    "## Gradients\n",
    "####  $ {\\partial J \\over \\partial \\theta} = -{2 \\over m} \\sum \\limits _{i = 1}^{m} (y_i - \\hat{y_i})X_i $\n",
    "####  $ {\\partial J \\over \\partial b} = -{2 \\over m} \\sum \\limits _{i = 1}^{m} (y_i - \\hat{y_i}) $"
   ]
  },
  {
   "cell_type": "markdown",
   "metadata": {},
   "source": [
    "## Update Weights\n",
    "#### $ \\theta = \\theta - \\alpha{\\partial J \\over \\partial \\theta} $\n",
    "\n",
    "#### $ b = b - \\alpha{\\partial J \\over \\partial b} $"
   ]
  },
  {
   "cell_type": "code",
   "execution_count": 666,
   "metadata": {},
   "outputs": [],
   "source": [
    "def update_weights(X, y, y_pred, b_0, theta_0, learning_rate, m=X_train.shape[0]):\n",
    "    dw = -(2/m) * np.sum((y - y_pred) * X)\n",
    "    db = -(2/m) * np.sum((y - y_pred) * 1)\n",
    "    b_1 = b_0 - learning_rate*db\n",
    "    theta_1 = theta_0 - learning_rate*dw\n",
    "    return b_1, theta_1"
   ]
  },
  {
   "cell_type": "code",
   "execution_count": 667,
   "metadata": {},
   "outputs": [
    {
     "name": "stdout",
     "output_type": "stream",
     "text": [
      "\n",
      "    After initialization \n",
      "        Bias: [0.36729878]\n",
      "        theta: [[0.51498986]]\n",
      "      \n",
      "Cost: 1466.0797328876915\n",
      "\n",
      "    After first update \n",
      "        Bias: [0.37929682]\n",
      "        theta: [[1.14719482]]\n",
      "      \n",
      "Cost: 1426.3853228862122\n"
     ]
    }
   ],
   "source": [
    "print(\"\"\"\n",
    "    After initialization \n",
    "        Bias: {}\n",
    "        theta: {}\n",
    "      \"\"\".format(b, theta))\n",
    "print('Cost:', get_cost(y_train, y_hat))\n",
    "\n",
    "b,theta = update_weights(X_train, y_train, y_hat, b, theta, 0.01)\n",
    "y_hat = predict_y(b, theta, X_train)\n",
    "\n",
    "print(\"\"\"\n",
    "    After first update \n",
    "        Bias: {}\n",
    "        theta: {}\n",
    "      \"\"\".format(b, theta))\n",
    "print('Cost:', get_cost(y_train, y_hat))"
   ]
  },
  {
   "cell_type": "markdown",
   "metadata": {},
   "source": [
    "## GD Function"
   ]
  },
  {
   "cell_type": "code",
   "execution_count": 668,
   "metadata": {},
   "outputs": [],
   "source": [
    "def run_gradient_descent(X, y, alpha, num_epochs):\n",
    "\n",
    "    b, theta = initialize(X.shape[1], y.shape[1])\n",
    "\n",
    "    for i in range(num_epochs):\n",
    "        y_pred = predict_y(b, theta, X_train)\n",
    "\n",
    "        cost = get_cost(y, y_pred)\n",
    "\n",
    "        if (i%100) == 0:\n",
    "            print (f\"Epoch: {i}, loss: {cost:.3f}\")\n",
    "\n",
    "        b,theta = update_weights(X, y, y_pred, b, theta, alpha)\n",
    "    \n",
    "    return b[0], theta[0][0]"
   ]
  },
  {
   "cell_type": "code",
   "execution_count": 669,
   "metadata": {},
   "outputs": [
    {
     "name": "stdout",
     "output_type": "stream",
     "text": [
      "Epoch: 0, loss: 1449.169\n",
      "Epoch: 100, loss: 154.690\n",
      "Epoch: 200, loss: 83.800\n",
      "Epoch: 300, loss: 79.917\n",
      "Epoch: 400, loss: 79.704\n",
      "Epoch: 500, loss: 79.692\n",
      "Epoch: 600, loss: 79.692\n",
      "Epoch: 700, loss: 79.692\n",
      "Epoch: 800, loss: 79.692\n",
      "Epoch: 900, loss: 79.692\n"
     ]
    }
   ],
   "source": [
    "b, theta = run_gradient_descent(X_train, y_train, 0.01, 1000)"
   ]
  },
  {
   "cell_type": "code",
   "execution_count": 670,
   "metadata": {},
   "outputs": [
    {
     "data": {
      "text/plain": [
       "(0.8452877496983456, 44.364714350908585)"
      ]
     },
     "execution_count": 670,
     "metadata": {},
     "output_type": "execute_result"
    }
   ],
   "source": [
    "b, theta"
   ]
  },
  {
   "cell_type": "code",
   "execution_count": 671,
   "metadata": {},
   "outputs": [
    {
     "data": {
      "text/plain": [
       "array([[ -68.87941207],\n",
       "       [-123.88440676],\n",
       "       [ -54.01192548],\n",
       "       [   5.10925925],\n",
       "       [  75.17828014],\n",
       "       [ -66.44315459],\n",
       "       [ -81.31505405],\n",
       "       [ -33.50098427],\n",
       "       [  -0.96039054],\n",
       "       [ -90.27596328]])"
      ]
     },
     "execution_count": 671,
     "metadata": {},
     "output_type": "execute_result"
    }
   ],
   "source": [
    "pred_test = predict_y(b_new, theta_new, X_test)\n",
    "pred_test[: 10]"
   ]
  },
  {
   "cell_type": "code",
   "execution_count": 672,
   "metadata": {},
   "outputs": [
    {
     "data": {
      "text/plain": [
       "array([[ -64.51014139],\n",
       "       [-118.02745409],\n",
       "       [ -56.06201681],\n",
       "       [  12.61693126],\n",
       "       [  74.71530364],\n",
       "       [ -63.16609268],\n",
       "       [ -78.59179131],\n",
       "       [ -38.90221305],\n",
       "       [   2.74944415],\n",
       "       [ -84.18851543]])"
      ]
     },
     "execution_count": 672,
     "metadata": {},
     "output_type": "execute_result"
    }
   ],
   "source": [
    "y_test[: 10]"
   ]
  },
  {
   "cell_type": "code",
   "execution_count": 673,
   "metadata": {},
   "outputs": [
    {
     "data": {
      "image/png": "[encoded data removed]",
      "text/plain": [
       "<Figure size 432x288 with 1 Axes>"
      ]
     },
     "metadata": {
      "needs_background": "light"
     },
     "output_type": "display_data"
    }
   ],
   "source": [
    "plt.scatter(X_test, y_test, label='y_test')\n",
    "plt.plot(X_test, pred_test, color=\"red\", linewidth=1, linestyle=\"-\", label=\"model\")\n",
    "plt.legend(loc=\"lower right\")\n",
    "\n",
    "plt.show()"
   ]
  },
  {
   "cell_type": "code",
   "execution_count": 674,
   "metadata": {},
   "outputs": [
    {
     "name": "stdout",
     "output_type": "stream",
     "text": [
      "95.90%\n"
     ]
    }
   ],
   "source": [
    "from sklearn.metrics import r2_score\n",
    "\n",
    "score = r2_score(y_test, pred_test)\n",
    "print(f'{score*100:.2f}%')"
   ]
  }
 ],
 "metadata": {
  "kernelspec": {
   "display_name": "Python 3 (ipykernel)",
   "language": "python",
   "name": "python3"
  },
  "language_info": {
   "codemirror_mode": {
    "name": "ipython",
    "version": 3
   },
   "file_extension": ".py",
   "mimetype": "text/x-python",
   "name": "python",
   "nbconvert_exporter": "python",
   "pygments_lexer": "ipython3",
   "version": "3.9.12"
  },
  "vscode": {
   "interpreter": {
    "hash": "40d3a090f54c6569ab1632332b64b2c03c39dcf918b08424e98f38b5ae0af88f"
   }
  }
 },
 "nbformat": 4,
 "nbformat_minor": 4
}
