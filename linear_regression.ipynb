{
 "cells": [
  {
   "cell_type": "code",
   "execution_count": 1,
   "metadata": {},
   "outputs": [],
   "source": [
    "import numpy as np\n",
    "import pandas as pd\n",
    "import matplotlib.pyplot as plt"
   ]
  },
  {
   "cell_type": "markdown",
   "metadata": {},
   "source": [
    "##  Generate data"
   ]
  },
  {
   "cell_type": "code",
   "execution_count": 2,
   "metadata": {},
   "outputs": [],
   "source": [
    "from sklearn.datasets import make_regression"
   ]
  },
  {
   "cell_type": "code",
   "execution_count": 3,
   "metadata": {},
   "outputs": [],
   "source": [
    "X_arr, y_arr = make_regression(n_samples=100, n_features=1, noise=10, random_state=42)"
   ]
  },
  {
   "cell_type": "markdown",
   "metadata": {},
   "source": [
    "## Load into DataFrame"
   ]
  },
  {
   "cell_type": "code",
   "execution_count": 4,
   "metadata": {},
   "outputs": [],
   "source": [
    "X_df = pd.DataFrame(data=X_arr, columns=['X'])"
   ]
  },
  {
   "cell_type": "code",
   "execution_count": 5,
   "metadata": {},
   "outputs": [],
   "source": [
    "y_df = pd.DataFrame(data=y_arr, columns=['y'])"
   ]
  },
  {
   "cell_type": "code",
   "execution_count": 6,
   "metadata": {},
   "outputs": [
    {
     "data": {
      "text/html": [
       "<div>\n",
       "<style scoped>\n",
       "    .dataframe tbody tr th:only-of-type {\n",
       "        vertical-align: middle;\n",
       "    }\n",
       "\n",
       "    .dataframe tbody tr th {\n",
       "        vertical-align: top;\n",
       "    }\n",
       "\n",
       "    .dataframe thead th {\n",
       "        text-align: right;\n",
       "    }\n",
       "</style>\n",
       "<table border=\"1\" class=\"dataframe\">\n",
       "  <thead>\n",
       "    <tr style=\"text-align: right;\">\n",
       "      <th></th>\n",
       "      <th>X</th>\n",
       "      <th>y</th>\n",
       "    </tr>\n",
       "  </thead>\n",
       "  <tbody>\n",
       "    <tr>\n",
       "      <th>0</th>\n",
       "      <td>0.931280</td>\n",
       "      <td>50.779929</td>\n",
       "    </tr>\n",
       "    <tr>\n",
       "      <th>1</th>\n",
       "      <td>0.087047</td>\n",
       "      <td>-10.065270</td>\n",
       "    </tr>\n",
       "    <tr>\n",
       "      <th>2</th>\n",
       "      <td>-1.057711</td>\n",
       "      <td>-34.918392</td>\n",
       "    </tr>\n",
       "    <tr>\n",
       "      <th>3</th>\n",
       "      <td>0.314247</td>\n",
       "      <td>10.526743</td>\n",
       "    </tr>\n",
       "    <tr>\n",
       "      <th>4</th>\n",
       "      <td>-0.479174</td>\n",
       "      <td>-17.738377</td>\n",
       "    </tr>\n",
       "  </tbody>\n",
       "</table>\n",
       "</div>"
      ],
      "text/plain": [
       "          X          y\n",
       "0  0.931280  50.779929\n",
       "1  0.087047 -10.065270\n",
       "2 -1.057711 -34.918392\n",
       "3  0.314247  10.526743\n",
       "4 -0.479174 -17.738377"
      ]
     },
     "execution_count": 6,
     "metadata": {},
     "output_type": "execute_result"
    }
   ],
   "source": [
    "df = pd.concat([X_df, y_df], axis=1)\n",
    "X = df[[\"X\"]].values\n",
    "y = df[[\"y\"]].values\n",
    "df.head()"
   ]
  },
  {
   "cell_type": "code",
   "execution_count": 7,
   "metadata": {},
   "outputs": [
    {
     "data": {
      "image/png": "[encoded data removed]",
      "text/plain": [
       "<Figure size 432x288 with 1 Axes>"
      ]
     },
     "metadata": {
      "needs_background": "light"
     },
     "output_type": "display_data"
    }
   ],
   "source": [
    "plt.scatter(X, y)\n",
    "plt.show()"
   ]
  },
  {
   "cell_type": "markdown",
   "metadata": {},
   "source": [
    "## Split Data"
   ]
  },
  {
   "cell_type": "code",
   "execution_count": 8,
   "metadata": {},
   "outputs": [],
   "source": [
    "from sklearn.model_selection import train_test_split\n",
    "\n",
    "X_train, X_test, y_train, y_test = train_test_split(X, y, test_size=0.2)"
   ]
  },
  {
   "cell_type": "code",
   "execution_count": 9,
   "metadata": {},
   "outputs": [
    {
     "data": {
      "text/plain": [
       "((80, 1), (80, 1))"
      ]
     },
     "execution_count": 9,
     "metadata": {},
     "output_type": "execute_result"
    }
   ],
   "source": [
    "X_train.shape, y_train.shape"
   ]
  },
  {
   "cell_type": "code",
   "execution_count": 10,
   "metadata": {},
   "outputs": [
    {
     "data": {
      "text/plain": [
       "((20, 1), (20, 1))"
      ]
     },
     "execution_count": 10,
     "metadata": {},
     "output_type": "execute_result"
    }
   ],
   "source": [
    "X_test.shape, y_test.shape"
   ]
  },
  {
   "cell_type": "markdown",
   "metadata": {},
   "source": [
    "##  Implementing Gradient Descent"
   ]
  },
  {
   "cell_type": "markdown",
   "metadata": {},
   "source": [
    "Formula:\n",
    "### $ \\theta := \\theta - \\alpha {\\partial \\over \\partial \\theta} J(\\theta) $"
   ]
  },
  {
   "cell_type": "markdown",
   "metadata": {},
   "source": [
    "### to implement gradient descent algorithm we need to follow 4 steps: \n",
    "1. Randomly initialize the bias and the weight theta\n",
    "2. Calculate predicted value of y that is Y given the bias and the weight\n",
    "3. Calculate the cost function from predicted and actual values of Y\n",
    "4. Calculate gradient and the weights"
   ]
  },
  {
   "cell_type": "markdown",
   "metadata": {},
   "source": [
    "firstly take a random value for bias and weights"
   ]
  },
  {
   "cell_type": "code",
   "execution_count": 11,
   "metadata": {},
   "outputs": [
    {
     "name": "stdout",
     "output_type": "stream",
     "text": [
      "\n",
      "        Bias: [0.88818696]\n",
      "        Weights: [[0.50198518]]\n",
      "      \n"
     ]
    }
   ],
   "source": [
    "import random\n",
    "\n",
    "def initialize(input_dim, output_dim):\n",
    "    b = np.random.rand(input_dim, output_dim).reshape((1,))\n",
    "    theta = np.random.rand(input_dim, output_dim)\n",
    "    return b, theta\n",
    "\n",
    "b, theta = initialize(X_train.shape[1], y_train.shape[1])\n",
    "\n",
    "print('''\n",
    "        Bias: {}\n",
    "        Weights: {}\n",
    "      '''.format(b, theta))"
   ]
  },
  {
   "cell_type": "markdown",
   "metadata": {},
   "source": [
    "###    Predicted y\n",
    "#### $ \\hat{y_i} = \\theta*X + b $"
   ]
  },
  {
   "cell_type": "code",
   "execution_count": 12,
   "metadata": {},
   "outputs": [],
   "source": [
    "def predict_y(b, theta, X):\n",
    "    return b + np.dot(X, theta)"
   ]
  },
  {
   "cell_type": "markdown",
   "metadata": {},
   "source": [
    "###  Cost Function (MSE)\n",
    "#### $ J(\\theta) := {1 \\over m} \\sum \\limits _{i = 1}^{m} (y_i - \\hat{y_i})^2 $"
   ]
  },
  {
   "cell_type": "code",
   "execution_count": 13,
   "metadata": {},
   "outputs": [
    {
     "data": {
      "text/plain": [
       "1710.3433361734446"
      ]
     },
     "execution_count": 13,
     "metadata": {},
     "output_type": "execute_result"
    }
   ],
   "source": [
    "import math\n",
    "\n",
    "# MSE \n",
    "def get_cost(y, y_hat):\n",
    "    return (1/len(y)) * np.sum((y - y_hat)**2)\n",
    "\n",
    "y_hat = predict_y(b, theta, X_train)\n",
    "\n",
    "get_cost(y_train, y_hat)"
   ]
  },
  {
   "cell_type": "markdown",
   "metadata": {},
   "source": [
    "## Gradients\n",
    "####  $ {\\partial J \\over \\partial \\theta} = -{2 \\over m} \\sum \\limits _{i = 1}^{m} (y_i - \\hat{y_i})X_i $\n",
    "####  $ {\\partial J \\over \\partial b} = -{2 \\over m} \\sum \\limits _{i = 1}^{m} (y_i - \\hat{y_i}) $"
   ]
  },
  {
   "cell_type": "markdown",
   "metadata": {},
   "source": [
    "## Update Weights\n",
    "#### $ \\theta = \\theta - \\alpha{\\partial J \\over \\partial \\theta} $\n",
    "\n",
    "#### $ b = b - \\alpha{\\partial J \\over \\partial b} $"
   ]
  },
  {
   "cell_type": "code",
   "execution_count": 14,
   "metadata": {},
   "outputs": [],
   "source": [
    "def update_weights(X, y, y_pred, b_0, theta_0, learning_rate, m=X_train.shape[0]):\n",
    "    dw = -(2/m) * np.sum((y - y_pred) * X)\n",
    "    db = -(2/m) * np.sum((y - y_pred) * 1)\n",
    "    b_1 = b_0 - learning_rate*db\n",
    "    theta_1 = theta_0 - learning_rate*dw\n",
    "    return b_1, theta_1"
   ]
  },
  {
   "cell_type": "code",
   "execution_count": 15,
   "metadata": {},
   "outputs": [
    {
     "name": "stdout",
     "output_type": "stream",
     "text": [
      "\n",
      "    After initialization \n",
      "        Bias: [0.88818696]\n",
      "        theta: [[0.50198518]]\n",
      "      \n",
      "Cost: 1710.3433361734446\n",
      "\n",
      "    After first update \n",
      "        Bias: [0.80462017]\n",
      "        theta: [[1.24690334]]\n",
      "      \n",
      "Cost: 1654.640836005108\n"
     ]
    }
   ],
   "source": [
    "print(\"\"\"\n",
    "    After initialization \n",
    "        Bias: {}\n",
    "        theta: {}\n",
    "      \"\"\".format(b, theta))\n",
    "print('Cost:', get_cost(y_train, y_hat))\n",
    "\n",
    "b,theta = update_weights(X_train, y_train, y_hat, b, theta, 0.01)\n",
    "y_hat = predict_y(b, theta, X_train)\n",
    "\n",
    "print(\"\"\"\n",
    "    After first update \n",
    "        Bias: {}\n",
    "        theta: {}\n",
    "      \"\"\".format(b, theta))\n",
    "print('Cost:', get_cost(y_train, y_hat))"
   ]
  },
  {
   "cell_type": "markdown",
   "metadata": {},
   "source": [
    "## GD Function"
   ]
  },
  {
   "cell_type": "code",
   "execution_count": 16,
   "metadata": {},
   "outputs": [],
   "source": [
    "def run_gradient_descent(X, y, alpha, num_epochs):\n",
    "\n",
    "    b, theta = initialize(X.shape[1], y.shape[1])\n",
    "\n",
    "    for i in range(num_epochs):\n",
    "        y_pred = predict_y(b, theta, X_train)\n",
    "\n",
    "        cost = get_cost(y, y_pred)\n",
    "\n",
    "        if (i%100) == 0:\n",
    "            print (f\"Epoch: {i}, loss: {cost:.3f}\")\n",
    "\n",
    "        b,theta = update_weights(X, y, y_pred, b, theta, alpha)\n",
    "    \n",
    "    return b[0], theta[0][0]"
   ]
  },
  {
   "cell_type": "code",
   "execution_count": 17,
   "metadata": {},
   "outputs": [
    {
     "name": "stdout",
     "output_type": "stream",
     "text": [
      "Epoch: 0, loss: 1671.823\n",
      "Epoch: 100, loss: 117.332\n",
      "Epoch: 200, loss: 62.893\n",
      "Epoch: 300, loss: 60.796\n",
      "Epoch: 400, loss: 60.712\n",
      "Epoch: 500, loss: 60.709\n",
      "Epoch: 600, loss: 60.709\n",
      "Epoch: 700, loss: 60.709\n",
      "Epoch: 800, loss: 60.709\n",
      "Epoch: 900, loss: 60.709\n"
     ]
    }
   ],
   "source": [
    "b, theta = run_gradient_descent(X_train, y_train, 0.01, 1000)"
   ]
  },
  {
   "cell_type": "code",
   "execution_count": 18,
   "metadata": {},
   "outputs": [
    {
     "data": {
      "text/plain": [
       "(1.1590711950255705, 44.82272534493954)"
      ]
     },
     "execution_count": 18,
     "metadata": {},
     "output_type": "execute_result"
    }
   ],
   "source": [
    "b, theta"
   ]
  },
  {
   "cell_type": "code",
   "execution_count": 19,
   "metadata": {},
   "outputs": [
    {
     "data": {
      "text/plain": [
       "array([[ 42.1898889 ],\n",
       "       [-25.81105902],\n",
       "       [ 16.007201  ],\n",
       "       [ -9.33558532],\n",
       "       [-87.92918437],\n",
       "       [-25.76319183],\n",
       "       [ 48.5421704 ],\n",
       "       [ -4.0246    ],\n",
       "       [-44.23877993],\n",
       "       [ 15.24449307]])"
      ]
     },
     "execution_count": 19,
     "metadata": {},
     "output_type": "execute_result"
    }
   ],
   "source": [
    "pred_test = predict_y(b, theta, X_test)\n",
    "pred_test[: 10]"
   ]
  },
  {
   "cell_type": "code",
   "execution_count": 20,
   "metadata": {},
   "outputs": [
    {
     "data": {
      "text/plain": [
       "array([[ 28.57973536],\n",
       "       [-33.92230425],\n",
       "       [ 20.00370858],\n",
       "       [-29.99628354],\n",
       "       [-85.35925853],\n",
       "       [-11.01926675],\n",
       "       [ 49.68666288],\n",
       "       [  1.3781956 ],\n",
       "       [-37.4991444 ],\n",
       "       [ 10.52674299]])"
      ]
     },
     "execution_count": 20,
     "metadata": {},
     "output_type": "execute_result"
    }
   ],
   "source": [
    "y_test[: 10]"
   ]
  },
  {
   "cell_type": "code",
   "execution_count": 21,
   "metadata": {},
   "outputs": [
    {
     "data": {
      "image/png": "[encoded data removed]",
      "text/plain": [
       "<Figure size 432x288 with 1 Axes>"
      ]
     },
     "metadata": {
      "needs_background": "light"
     },
     "output_type": "display_data"
    }
   ],
   "source": [
    "plt.scatter(X_test, y_test, label='y_test')\n",
    "plt.plot(X_test, pred_test, color=\"red\", linewidth=1, linestyle=\"-\", label=\"model\")\n",
    "plt.legend(loc=\"lower right\")\n",
    "\n",
    "plt.show()"
   ]
  },
  {
   "cell_type": "code",
   "execution_count": 22,
   "metadata": {},
   "outputs": [
    {
     "name": "stdout",
     "output_type": "stream",
     "text": [
      "90.33%\n"
     ]
    }
   ],
   "source": [
    "from sklearn.metrics import r2_score\n",
    "\n",
    "score = r2_score(y_test, pred_test)\n",
    "print(f'{score*100:.2f}%')"
   ]
  },
  {
   "cell_type": "code",
   "execution_count": null,
   "metadata": {},
   "outputs": [],
   "source": []
  }
 ],
 "metadata": {
  "kernelspec": {
   "display_name": "Python 3 (ipykernel)",
   "language": "python",
   "name": "python3"
  },
  "language_info": {
   "codemirror_mode": {
    "name": "ipython",
    "version": 3
   },
   "file_extension": ".py",
   "mimetype": "text/x-python",
   "name": "python",
   "nbconvert_exporter": "python",
   "pygments_lexer": "ipython3",
   "version": "3.9.12"
  },
  "vscode": {
   "interpreter": {
    "hash": "40d3a090f54c6569ab1632332b64b2c03c39dcf918b08424e98f38b5ae0af88f"
   }
  }
 },
 "nbformat": 4,
 "nbformat_minor": 4
}
