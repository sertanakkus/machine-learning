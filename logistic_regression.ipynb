{
 "cells": [
  {
   "cell_type": "code",
   "execution_count": 1,
   "id": "c0ab4540-66e8-470c-9b9f-022e12bc193f",
   "metadata": {},
   "outputs": [],
   "source": [
    "import numpy as np\n",
    "import pandas as pd\n",
    "import matplotlib.pyplot as plt"
   ]
  },
  {
   "cell_type": "markdown",
   "id": "b0cd2c9b-be98-40c6-8a77-c2d78d1d89ec",
   "metadata": {},
   "source": [
    "## Generate Data"
   ]
  },
  {
   "cell_type": "code",
   "execution_count": 2,
   "id": "7e847475-f692-4e0f-b193-9cc7a3ba724e",
   "metadata": {},
   "outputs": [],
   "source": [
    "from sklearn.datasets import make_classification"
   ]
  },
  {
   "cell_type": "code",
   "execution_count": 3,
   "id": "557e4572-33d4-4d92-8d88-c57b8d000c24",
   "metadata": {},
   "outputs": [],
   "source": [
    "X, y = make_classification(n_samples=500, n_features=4, random_state=42)"
   ]
  },
  {
   "cell_type": "code",
   "execution_count": 4,
   "id": "d93e6297-d75d-450b-b8ed-6b42ae9ddeed",
   "metadata": {},
   "outputs": [
    {
     "data": {
      "text/plain": [
       "((500, 4), (500,))"
      ]
     },
     "execution_count": 4,
     "metadata": {},
     "output_type": "execute_result"
    }
   ],
   "source": [
    "X.shape, y.shape"
   ]
  },
  {
   "cell_type": "markdown",
   "id": "8fd9d956-94cf-4a2d-ab62-42781acfe020",
   "metadata": {},
   "source": [
    "## Split Data"
   ]
  },
  {
   "cell_type": "code",
   "execution_count": 5,
   "id": "39ca045e-a8ea-4d76-84f0-d7199a843fb6",
   "metadata": {},
   "outputs": [],
   "source": [
    "from sklearn.model_selection import train_test_split\n",
    "\n",
    "X_train, X_test, y_train, y_test = train_test_split(X, y, test_size=0.2, random_state=42)"
   ]
  },
  {
   "cell_type": "code",
   "execution_count": 6,
   "id": "70958db0-7468-433b-8abe-2ed326a7a49b",
   "metadata": {},
   "outputs": [
    {
     "data": {
      "text/plain": [
       "((400, 4), (400,))"
      ]
     },
     "execution_count": 6,
     "metadata": {},
     "output_type": "execute_result"
    }
   ],
   "source": [
    "X_train.shape, y_train.shape"
   ]
  },
  {
   "cell_type": "code",
   "execution_count": 7,
   "id": "c496f074-8d97-49fd-80c2-87d95f4209a4",
   "metadata": {},
   "outputs": [
    {
     "data": {
      "text/plain": [
       "((100, 4), (100,))"
      ]
     },
     "execution_count": 7,
     "metadata": {},
     "output_type": "execute_result"
    }
   ],
   "source": [
    "X_test.shape, y_test.shape"
   ]
  },
  {
   "cell_type": "markdown",
   "id": "f365868a-d858-4aeb-872d-58778b66b2c8",
   "metadata": {},
   "source": [
    "## Initialize Parameters"
   ]
  },
  {
   "cell_type": "code",
   "execution_count": 8,
   "id": "eb872eb7-86ba-40dd-bc3d-047972c6962f",
   "metadata": {},
   "outputs": [],
   "source": [
    "# Add a bias column to the feature matrix\n",
    "X_train = np.hstack((np.ones((X_train.shape[0], 1)), X_train))\n",
    "X_test = np.hstack((np.ones((X_test.shape[0], 1)), X_test))\n",
    "\n",
    "def initialize(X):\n",
    "    theta = np.zeros(X.shape[1])\n",
    "    return theta"
   ]
  },
  {
   "cell_type": "markdown",
   "id": "be93cdd9-0e10-43c2-9e13-54beeb17f407",
   "metadata": {},
   "source": [
    "## Sigmoid Function"
   ]
  },
  {
   "cell_type": "code",
   "execution_count": 9,
   "id": "cabff6ac-d292-45aa-8733-e008a3a20dcd",
   "metadata": {},
   "outputs": [
    {
     "data": {
      "text/plain": [
       "0.5"
      ]
     },
     "execution_count": 9,
     "metadata": {},
     "output_type": "execute_result"
    }
   ],
   "source": [
    "def sigmoid(z):\n",
    "    return 1/(1 + np.exp(-z))\n",
    "sigmoid(0) "
   ]
  },
  {
   "cell_type": "code",
   "execution_count": 10,
   "id": "78634761-8ab4-48e6-b6d8-d168a89bcb7a",
   "metadata": {},
   "outputs": [
    {
     "data": {
      "image/png": "[encoded data removed]",
      "text/plain": [
       "<Figure size 432x288 with 1 Axes>"
      ]
     },
     "metadata": {
      "needs_background": "light"
     },
     "output_type": "display_data"
    }
   ],
   "source": [
    "values = np.arange(-10, 10, 0.1)\n",
    "\n",
    "plt.plot(values, sigmoid(values))\n",
    "plt.xlabel('x')\n",
    "plt.ylabel('sigmoid(x)')\n",
    "plt.title('Sigmoid Function')\n",
    "plt.show()"
   ]
  },
  {
   "cell_type": "markdown",
   "id": "ddf994de-d412-4214-a535-7c493a1fb3bc",
   "metadata": {},
   "source": [
    "## Cost Function"
   ]
  },
  {
   "cell_type": "markdown",
   "id": "3a84cfd6-7039-46e2-a7d6-6ebd229cc798",
   "metadata": {},
   "source": [
    "### $ J(\\theta) = -{1 \\over m} \\sum \\limits _{i = 1}^{m} {[y_i log(h_\\theta(x_i)) + (1 - y_i) log(1 - h_\\theta(x_i))]} $\n",
    "h(x) = sigmoid function "
   ]
  },
  {
   "cell_type": "code",
   "execution_count": 11,
   "id": "550137a3-2f3c-4249-b49f-16cfce7ca94e",
   "metadata": {},
   "outputs": [],
   "source": [
    "def get_cost(theta, X, y):\n",
    "    m = len(y) \n",
    "    h = sigmoid(np.dot(X, theta)) \n",
    "    cost = -(1/m) * np.sum(y*np.log(h) + (1-y)*np.log(1-h)) \n",
    "    \n",
    "    return cost"
   ]
  },
  {
   "cell_type": "markdown",
   "id": "01bab537-6514-4d0c-b187-3f2b8bb5eb65",
   "metadata": {},
   "source": [
    "## Gradient Descent"
   ]
  },
  {
   "cell_type": "markdown",
   "id": "acb1e319-5dd1-45d0-a655-81a19f72b58f",
   "metadata": {},
   "source": [
    "### $ {{\\partial J(\\theta)} \\over {\\partial \\theta_j}} = {1 \\over 2m} \\sum \\limits _{i = 1}^{m} {(h(x^i) - y)} x_j^i $\n",
    "#### vectorized form: $ X^T(h_\\theta(x) - y) $"
   ]
  },
  {
   "cell_type": "code",
   "execution_count": 12,
   "id": "24c9f7ae-bf9f-48e7-94d5-7053b11835bd",
   "metadata": {},
   "outputs": [],
   "source": [
    "def run_gradient_descent(X, y, alpha=0.001, no_iter=2000):\n",
    "    theta = initialize(X)\n",
    "    m = len(y)\n",
    "    \n",
    "    cost_history = pd.DataFrame(columns=['cost'])\n",
    "    for i in range(no_iter):\n",
    "        h = sigmoid(np.dot(X, theta))\n",
    "        \n",
    "        dw = (1/m)*(np.dot(X.T, (h - y)))\n",
    "        theta = theta - alpha*dw\n",
    "        \n",
    "        if (i%500 == 0):\n",
    "            cost_history.loc[i] = get_cost(theta, X, y)\n",
    "\n",
    "    return theta, cost_history"
   ]
  },
  {
   "cell_type": "code",
   "execution_count": 13,
   "id": "db6863c5-10f9-4eae-a39c-c821411bff4b",
   "metadata": {},
   "outputs": [],
   "source": [
    "theta, cost_history = run_gradient_descent(X_train, y_train)"
   ]
  },
  {
   "cell_type": "code",
   "execution_count": 14,
   "id": "bbf03434-d315-4ad7-a90c-a60575fd37a1",
   "metadata": {},
   "outputs": [
    {
     "data": {
      "text/plain": [
       "array([-0.02236422,  0.1858965 , -0.06723608,  0.68710542, -0.01797921])"
      ]
     },
     "execution_count": 14,
     "metadata": {},
     "output_type": "execute_result"
    }
   ],
   "source": [
    "theta"
   ]
  },
  {
   "cell_type": "code",
   "execution_count": 15,
   "id": "3fd20386-e93f-432b-8da5-31ece25f9809",
   "metadata": {},
   "outputs": [
    {
     "data": {
      "text/html": [
       "<div>\n",
       "<style scoped>\n",
       "    .dataframe tbody tr th:only-of-type {\n",
       "        vertical-align: middle;\n",
       "    }\n",
       "\n",
       "    .dataframe tbody tr th {\n",
       "        vertical-align: top;\n",
       "    }\n",
       "\n",
       "    .dataframe thead th {\n",
       "        text-align: right;\n",
       "    }\n",
       "</style>\n",
       "<table border=\"1\" class=\"dataframe\">\n",
       "  <thead>\n",
       "    <tr style=\"text-align: right;\">\n",
       "      <th></th>\n",
       "      <th>cost</th>\n",
       "    </tr>\n",
       "  </thead>\n",
       "  <tbody>\n",
       "    <tr>\n",
       "      <th>0</th>\n",
       "      <td>0.692849</td>\n",
       "    </tr>\n",
       "    <tr>\n",
       "      <th>500</th>\n",
       "      <td>0.575793</td>\n",
       "    </tr>\n",
       "    <tr>\n",
       "      <th>1000</th>\n",
       "      <td>0.503006</td>\n",
       "    </tr>\n",
       "    <tr>\n",
       "      <th>1500</th>\n",
       "      <td>0.455102</td>\n",
       "    </tr>\n",
       "  </tbody>\n",
       "</table>\n",
       "</div>"
      ],
      "text/plain": [
       "          cost\n",
       "0     0.692849\n",
       "500   0.575793\n",
       "1000  0.503006\n",
       "1500  0.455102"
      ]
     },
     "execution_count": 15,
     "metadata": {},
     "output_type": "execute_result"
    }
   ],
   "source": [
    "cost_history"
   ]
  },
  {
   "cell_type": "code",
   "execution_count": 16,
   "id": "48a1bfc8-e9fd-4876-a27a-346ae62df44a",
   "metadata": {},
   "outputs": [],
   "source": [
    "def predict(X, theta):\n",
    "    x_dot_theta = np.dot(X, theta.T)\n",
    "    probabilities = sigmoid(x_dot_theta)\n",
    "    return [1 if p > 0.5 else 0 for p in probabilities]"
   ]
  },
  {
   "cell_type": "code",
   "execution_count": 17,
   "id": "b757ca84-3bd6-4702-a295-b8d70eafe92a",
   "metadata": {},
   "outputs": [],
   "source": [
    "preds = predict(X_test, theta)"
   ]
  },
  {
   "cell_type": "code",
   "execution_count": 18,
   "id": "76e5b55a-0f3e-4ad5-aba6-579354de131a",
   "metadata": {},
   "outputs": [
    {
     "name": "stdout",
     "output_type": "stream",
     "text": [
      "Accuracy: 89.0%\n"
     ]
    }
   ],
   "source": [
    "from sklearn.metrics import accuracy_score\n",
    "\n",
    "accuracy = accuracy_score(y_test, preds)\n",
    "print(f\"Accuracy: {accuracy*100}%\")"
   ]
  },
  {
   "cell_type": "code",
   "execution_count": null,
   "id": "630a4cac-96e4-464f-b8a7-1eff5ea6b874",
   "metadata": {},
   "outputs": [],
   "source": []
  }
 ],
 "metadata": {
  "kernelspec": {
   "display_name": "Python 3 (ipykernel)",
   "language": "python",
   "name": "python3"
  },
  "language_info": {
   "codemirror_mode": {
    "name": "ipython",
    "version": 3
   },
   "file_extension": ".py",
   "mimetype": "text/x-python",
   "name": "python",
   "nbconvert_exporter": "python",
   "pygments_lexer": "ipython3",
   "version": "3.9.12"
  }
 },
 "nbformat": 4,
 "nbformat_minor": 5
}
