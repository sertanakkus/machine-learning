{
 "cells": [
  {
   "cell_type": "code",
   "execution_count": 1,
   "id": "b2710231-e03e-4963-91f3-0d1ce7f4a9b0",
   "metadata": {},
   "outputs": [],
   "source": [
    "import numpy as np\n",
    "from collections import Counter\n",
    "import matplotlib.pyplot as plt"
   ]
  },
  {
   "cell_type": "markdown",
   "id": "fb43ef94-6e9c-4b7f-bef3-99ed7a5d51a7",
   "metadata": {},
   "source": [
    "## Euclidean Distance"
   ]
  },
  {
   "cell_type": "code",
   "execution_count": 2,
   "id": "dfca8c5d-ce82-4baa-82a1-beed2b4cf816",
   "metadata": {},
   "outputs": [],
   "source": [
    "def euclidean_distance(p1, p2):\n",
    "    dist = np.sqrt(np.sum((p1-p2)**2))\n",
    "    return dist"
   ]
  },
  {
   "cell_type": "markdown",
   "id": "6dfc629d-cd5f-4ffb-9d88-ed33913accc5",
   "metadata": {},
   "source": [
    "## Algorithm"
   ]
  },
  {
   "cell_type": "code",
   "execution_count": 3,
   "id": "10bf0036-bb28-4b34-bff5-71e28ca13a1d",
   "metadata": {},
   "outputs": [],
   "source": [
    "class KNN:\n",
    "    def __init__(self, k=5):\n",
    "        self.k = k\n",
    "        \n",
    "    def fit(self, X, y):\n",
    "        self.X = X\n",
    "        self.y = y\n",
    "    \n",
    "    def predict(self, X):\n",
    "        preds = [self._predict_class(x) for x in X]\n",
    "        return np.array(preds)\n",
    "        \n",
    "    def _predict_class(self, point_data):\n",
    "        dists = []\n",
    "        \n",
    "        # compute the distance\n",
    "        for (point_X, class_y) in list(zip(self.X, self.y)):\n",
    "            dist = euclidean_distance(point_X, point_data)\n",
    "            \n",
    "            dists.append((dist, class_y))\n",
    "        \n",
    "        # sort the distances\n",
    "        dists.sort()\n",
    "        \n",
    "        # get the k closest data points\n",
    "        neighbours = []\n",
    "        for i in range(self.k):\n",
    "            neighbours.append(dists[i][1])\n",
    "        \n",
    "        most_common = Counter(neighbours).most_common()\n",
    "        return most_common[0][0]\n"
   ]
  },
  {
   "cell_type": "markdown",
   "id": "a61d3ca3-ae1b-4106-857b-c48b9ac62529",
   "metadata": {},
   "source": [
    "## Data"
   ]
  },
  {
   "cell_type": "code",
   "execution_count": 4,
   "id": "bc68e9b6-b45c-45d3-b422-f884f0bbaf2f",
   "metadata": {},
   "outputs": [],
   "source": [
    "from sklearn.datasets import make_classification\n",
    "\n",
    "X, y = make_classification(n_samples=200, n_features=4, n_classes=3, n_clusters_per_class=1, random_state=321)\n",
    "X = X[:, [0,1]]"
   ]
  },
  {
   "cell_type": "code",
   "execution_count": 5,
   "id": "126ecd4d-983f-49f6-96a3-5d0d01485eae",
   "metadata": {},
   "outputs": [
    {
     "data": {
      "text/plain": [
       "((200, 2), (200,))"
      ]
     },
     "execution_count": 5,
     "metadata": {},
     "output_type": "execute_result"
    }
   ],
   "source": [
    "X.shape, y.shape"
   ]
  },
  {
   "cell_type": "code",
   "execution_count": 6,
   "id": "edffb924-4b6c-4f7b-8672-30a3da4778b4",
   "metadata": {},
   "outputs": [
    {
     "data": {
      "image/png": "[encoded data removed]",
      "text/plain": [
       "<Figure size 432x288 with 1 Axes>"
      ]
     },
     "metadata": {
      "needs_background": "light"
     },
     "output_type": "display_data"
    }
   ],
   "source": [
    "import matplotlib.pyplot as plt\n",
    "\n",
    "plt.scatter(X[:, 0], X[:, 1], c=y)\n",
    "plt.xlabel(\"Feature 1\")\n",
    "plt.ylabel(\"Feature 2\")\n",
    "plt.show()"
   ]
  },
  {
   "cell_type": "code",
   "execution_count": 7,
   "id": "cee39f7a-e858-4277-b8d1-289d4ad122df",
   "metadata": {},
   "outputs": [],
   "source": [
    "from sklearn.model_selection import train_test_split\n",
    "\n",
    "X_train, X_test, y_train, y_test = train_test_split(X, y, test_size=0.2, random_state=321)"
   ]
  },
  {
   "cell_type": "markdown",
   "id": "ab3ccea1-d919-44b5-9b5a-b55a9b07928d",
   "metadata": {},
   "source": [
    "## Model"
   ]
  },
  {
   "cell_type": "code",
   "execution_count": 8,
   "id": "7aa478ef-afec-409f-a6b2-6da59e478cc3",
   "metadata": {},
   "outputs": [],
   "source": [
    "knn = KNN()\n",
    "knn.fit(X_train, y_train)\n",
    "preds = knn.predict(X_test)"
   ]
  },
  {
   "cell_type": "code",
   "execution_count": 9,
   "id": "230ef89b-8e7a-445a-8422-6d9730b30b09",
   "metadata": {},
   "outputs": [],
   "source": [
    "def accuracy(y_pred, y_true):\n",
    "    acc = 100*np.sum(y_pred == y_true) / len(y_true)\n",
    "    return acc"
   ]
  },
  {
   "cell_type": "code",
   "execution_count": 10,
   "id": "882a4d47-52d4-4381-9525-463a77da41cb",
   "metadata": {},
   "outputs": [
    {
     "name": "stdout",
     "output_type": "stream",
     "text": [
      "Accuracy for k=5: 95.0%\n"
     ]
    }
   ],
   "source": [
    "acc = accuracy(preds, y_test)\n",
    "print(f\"Accuracy for k={knn.k}: {acc}%\")"
   ]
  },
  {
   "cell_type": "markdown",
   "id": "a9134dde-f16b-4471-9132-922144ccbde6",
   "metadata": {},
   "source": [
    "## k vs Accuracy "
   ]
  },
  {
   "cell_type": "code",
   "execution_count": 11,
   "id": "39e84232-fd33-45ed-8011-52e6f73a0309",
   "metadata": {},
   "outputs": [],
   "source": [
    "k_values = [x for x in range(1, 30, 2)]\n",
    "knn = KNN()\n",
    "knn.fit(X_train, y_train)\n",
    "\n",
    "accuracies = []\n",
    "for k in k_values:\n",
    "    knn.k = k\n",
    "    preds = knn.predict(X_test)\n",
    "    \n",
    "    acc = accuracy(preds, y_test)\n",
    "    accuracies.append(acc)"
   ]
  },
  {
   "cell_type": "code",
   "execution_count": 12,
   "id": "4faad803-1557-4105-a20d-7a15291a487c",
   "metadata": {},
   "outputs": [
    {
     "data": {
      "image/png": "[encoded data removed]",
      "text/plain": [
       "<Figure size 432x288 with 1 Axes>"
      ]
     },
     "metadata": {
      "needs_background": "light"
     },
     "output_type": "display_data"
    }
   ],
   "source": [
    "plt.plot(k_values, accuracies)\n",
    "plt.xlabel('k')\n",
    "plt.ylabel('Accuracy')\n",
    "plt.title('k vs accuracy')\n",
    "plt.show()"
   ]
  },
  {
   "cell_type": "markdown",
   "id": "aef5244d-2b5d-48c6-81a3-b0475bb586fc",
   "metadata": {},
   "source": [
    "### Best k"
   ]
  },
  {
   "cell_type": "code",
   "execution_count": 13,
   "id": "f4535789-603c-47e7-982f-02f7e38aca10",
   "metadata": {},
   "outputs": [
    {
     "data": {
      "text/plain": [
       "(97.5, 15)"
      ]
     },
     "execution_count": 13,
     "metadata": {},
     "output_type": "execute_result"
    }
   ],
   "source": [
    "## (accuracy, best k)\n",
    "max(list(zip(accuracies, k_values)))"
   ]
  },
  {
   "cell_type": "code",
   "execution_count": null,
   "id": "2ec6386a-f7f1-4528-88e4-4bd32a032050",
   "metadata": {},
   "outputs": [],
   "source": []
  }
 ],
 "metadata": {
  "kernelspec": {
   "display_name": "Python 3 (ipykernel)",
   "language": "python",
   "name": "python3"
  },
  "language_info": {
   "codemirror_mode": {
    "name": "ipython",
    "version": 3
   },
   "file_extension": ".py",
   "mimetype": "text/x-python",
   "name": "python",
   "nbconvert_exporter": "python",
   "pygments_lexer": "ipython3",
   "version": "3.9.12"
  }
 },
 "nbformat": 4,
 "nbformat_minor": 5
}
