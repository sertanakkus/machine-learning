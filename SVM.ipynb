{
 "cells": [
  {
   "cell_type": "code",
   "execution_count": 1,
   "id": "778e2aa8-6c0d-4b87-b407-89ba8c47cb11",
   "metadata": {},
   "outputs": [],
   "source": [
    "import numpy as np\n",
    "import matplotlib.pyplot as plt\n",
    "import random\n",
    "from IPython.display import Image"
   ]
  },
  {
   "cell_type": "markdown",
   "id": "3b6138f1-24fe-4cf1-8afc-df2df95b26f4",
   "metadata": {},
   "source": [
    "## SVM Linear Model"
   ]
  },
  {
   "cell_type": "code",
   "execution_count": 2,
   "id": "d7b6069c-eea0-49ba-a0cf-22992759420d",
   "metadata": {},
   "outputs": [
    {
     "data": {
      "text/html": [
       "<img src=\"images/SVM_Margin.png\" width=\"400\" height=\"400\"/>"
      ],
      "text/plain": [
       "<IPython.core.display.Image object>"
      ]
     },
     "execution_count": 2,
     "metadata": {},
     "output_type": "execute_result"
    }
   ],
   "source": [
    "Image(url=\"images/SVM_Margin.png\", width=400, height=400)"
   ]
  },
  {
   "cell_type": "markdown",
   "id": "64042aa0-db4c-458f-95a8-f66c1a5d5828",
   "metadata": {},
   "source": [
    "## Hyperplane Equation\n",
    "### $ h(x) = \\vec{w} \\cdot \\vec{x} - b = 0$\n",
    "\n",
    "If the number of features is two, the equation can be written as:\n",
    "### $ ((w_1 \\times x_1) + (w_2 \\times x_2)) - b = 0 $"
   ]
  },
  {
   "cell_type": "markdown",
   "id": "33c4548e-7a08-4ed1-9674-00fb2f71cce8",
   "metadata": {},
   "source": [
    "## Maximum Margin Classifier"
   ]
  },
  {
   "cell_type": "markdown",
   "id": "fee22e13-7a9a-455a-804d-1d15eca394c0",
   "metadata": {},
   "source": [
    "### $ h(x_i) \\le -1 $ if $ y_i = -1 $\n",
    "### $ h(x_i) \\ge 1 $ if $ y_i = 1 $\n",
    "__so__ \n",
    "### $ y_i(w \\cdot x_i - b) \\ge 1 $\n",
    "__and__ $ y_i \\in \\lbrace {-1, 1} \\rbrace $"
   ]
  },
  {
   "cell_type": "markdown",
   "id": "2d7f0cbd-2f99-4ec2-a916-cc9c285a927b",
   "metadata": {},
   "source": [
    "## Loss Function: Hinge Loss"
   ]
  },
  {
   "cell_type": "code",
   "execution_count": 3,
   "id": "157370fd-b99d-485b-9016-4a2c13952c6f",
   "metadata": {},
   "outputs": [
    {
     "data": {
      "text/html": [
       "<img src=\"images/Hinge_loss_vs_zero_one_loss.svg\" width=\"450\" height=\"450\"/>"
      ],
      "text/plain": [
       "<IPython.core.display.Image object>"
      ]
     },
     "execution_count": 3,
     "metadata": {},
     "output_type": "execute_result"
    }
   ],
   "source": [
    "Image(url=\"images/Hinge_loss_vs_zero_one_loss.svg\", width=450, height=450)"
   ]
  },
  {
   "cell_type": "markdown",
   "id": "da4787e4-8bf7-441c-a3f9-c08bda9a928d",
   "metadata": {},
   "source": [
    "### $ l = max(0,1 - y_i(w \\cdot x_i - b)) $"
   ]
  },
  {
   "cell_type": "markdown",
   "id": "ab129f7c-c1f8-4d70-97db-d4bdb42e5990",
   "metadata": {},
   "source": [
    "### $ l = 0 $ if $ y \\cdot f(x) \\ge 1 $\n",
    "### $ l = 1 - y \\cdot f(x) $ otherwise"
   ]
  },
  {
   "cell_type": "markdown",
   "id": "f861ca99-86a3-4674-9810-091e8243e04b",
   "metadata": {},
   "source": [
    "## Regularization"
   ]
  },
  {
   "cell_type": "markdown",
   "id": "68aab04b-fce9-44c1-ba7e-86c7cd4c64a4",
   "metadata": {},
   "source": [
    "### $ J = {\\lambda {\\mid\\mid w \\mid\\mid}^2} + {1 \\over n} \\sum \\limits _{i = 1}^{n} {max(0,1 - y_i(w \\cdot x_i - b)} $"
   ]
  },
  {
   "cell_type": "markdown",
   "id": "fb33297f-9ddb-45a9-b1e5-fefbe14ad197",
   "metadata": {},
   "source": [
    "### if $ y_i \\cdot f(x) \\ge 1: J_i = {\\lambda {\\mid\\mid w \\mid\\mid}^2} $\n",
    "### else $ J_i = {\\lambda {\\mid\\mid w \\mid\\mid}^2} + 1 - y_i(w \\cdot x_i - b) $"
   ]
  },
  {
   "cell_type": "markdown",
   "id": "1c33b581-e3f3-4e6b-9c43-827929e6faac",
   "metadata": {},
   "source": [
    "## Gradients"
   ]
  },
  {
   "cell_type": "markdown",
   "id": "20ae3beb-737a-4b1f-a627-6db0d10c038a",
   "metadata": {},
   "source": [
    "### if $ y_i \\cdot f(x) \\ge 1: $\n",
    "### $ {\\partial J_i \\over \\partial w} = 2 \\lambda w   \\Rightarrow  {\\partial J_i \\over \\partial b} = 0 $\n",
    "### else: \n",
    "### $ {\\partial J_i \\over \\partial w} = 2 \\lambda w - y_i \\cdot x_i   \\Rightarrow   {\\partial J_i \\over \\partial b} = y_i $"
   ]
  },
  {
   "cell_type": "markdown",
   "id": "0ddf9cc1-18ae-4983-b39b-6bb7a6cf90b3",
   "metadata": {},
   "source": [
    "## Update Gradients"
   ]
  },
  {
   "cell_type": "markdown",
   "id": "456eaed8-b48e-4dd1-ab88-a499a6be76f0",
   "metadata": {},
   "source": [
    "### if $ y_i \\cdot f(x) \\ge 1: $ \n",
    "### $ w = w - \\alpha \\cdot dw = w - \\alpha \\cdot 2 \\lambda w $ \n",
    "### $ b = b - \\alpha \\cdot d b = b $\n",
    "__else__\n",
    "### $ w = w - \\alpha \\cdot dw = w - \\alpha \\cdot(2 \\lambda w - y_i \\cdot x_i) $\n",
    "### $ b = b - \\alpha \\cdot db = b - \\alpha \\cdot y_i $"
   ]
  },
  {
   "cell_type": "markdown",
   "id": "848e7aa3-e4b0-457b-9e90-47594314d148",
   "metadata": {},
   "source": [
    "## Algorithm"
   ]
  },
  {
   "cell_type": "code",
   "execution_count": 4,
   "id": "269aba45-467e-43a1-9d16-0ee128fa5545",
   "metadata": {},
   "outputs": [],
   "source": [
    "class SVM:\n",
    "    def __init__(self, learning_rate=0.001, lambda_=0.01, epochs=1000):\n",
    "        self.alpha = learning_rate\n",
    "        self.lambda_ = lambda_\n",
    "        self.epochs = epochs\n",
    "        self.w = None\n",
    "        self.b = None\n",
    "    \n",
    "    def fit(self, X, y):\n",
    "        n, dim = X.shape\n",
    "        self.w, self.b = self._init_weights(dim)\n",
    "        \n",
    "        y_ = np.where(y <= 0, -1, 1)\n",
    "      \n",
    "        for iteration in range(self.epochs):\n",
    "            for i, X_i in enumerate(X):\n",
    "                if y_[i] * (np.dot(X_i, self.w) - self.b) >= 1 : \n",
    "                    self.w -= self.alpha * (2 * self.lambda_ * self.w) \n",
    "                else:\n",
    "                    self.w -= self.alpha * (2 * self.lambda_ * self.w - np.dot(X_i, y_[i])) \n",
    "                    self.b -= self.alpha * y_[i] \n",
    "            \n",
    "            predicted = self._predict(X)\n",
    "            loss = self._get_loss(y, predicted)\n",
    "            if (iteration%100) == 0:\n",
    "                print (f\"iteration: {iteration}, loss: {loss:.3f}\")\n",
    "                    \n",
    "        return self.w, self.b\n",
    "        \n",
    "    def _init_weights(self, dim):\n",
    "        weights = np.random.rand(dim)\n",
    "        bias = np.random.rand()\n",
    "        return weights, bias\n",
    "    \n",
    "    def predict(self, X):\n",
    "        pred = np.dot(X, self.w) - self.b \n",
    "        result = [1 if val > 0 else 0 for val in pred]\n",
    "        return result\n",
    "        \n",
    "    def _predict(self, X):\n",
    "        return X.dot(self.w) - self.b\n",
    "        \n",
    "    def _get_loss(self, actual, predicted):\n",
    "        new_predicted = np.array([-1 if i==0 else i for i in predicted])\n",
    "        new_actual = np.array([-1 if i==0 else i for i in actual])\n",
    "\n",
    "        # calculating hinge loss\n",
    "        hinge_loss = np.mean([max(0, 1-x*y) for x, y in zip(new_actual, new_predicted)])\n",
    "        return hinge_loss\n"
   ]
  },
  {
   "cell_type": "markdown",
   "id": "3643d994-9f7d-4424-b3e1-293969f0b8f8",
   "metadata": {},
   "source": [
    "## Data"
   ]
  },
  {
   "cell_type": "code",
   "execution_count": 5,
   "id": "f10ba1f0-46da-459e-9eaf-3ed81ced59ca",
   "metadata": {},
   "outputs": [],
   "source": [
    "from sklearn.datasets import make_blobs\n",
    "X, y = make_blobs(n_samples=200, centers=2, cluster_std=2, random_state=42)"
   ]
  },
  {
   "cell_type": "code",
   "execution_count": 6,
   "id": "09d3a40c-6f72-4786-b2ea-99896bdd0849",
   "metadata": {},
   "outputs": [
    {
     "data": {
      "image/png": "[encoded data removed]",
      "text/plain": [
       "<Figure size 432x288 with 1 Axes>"
      ]
     },
     "metadata": {
      "needs_background": "light"
     },
     "output_type": "display_data"
    }
   ],
   "source": [
    "plt.scatter(X[:, 0], X[:, 1], c=y)\n",
    "plt.show()"
   ]
  },
  {
   "cell_type": "code",
   "execution_count": 7,
   "id": "af2ada2f-69c6-4363-ae43-c991e0a9af04",
   "metadata": {},
   "outputs": [],
   "source": [
    "from sklearn.model_selection import train_test_split\n",
    "\n",
    "X_train, X_test, y_train, y_test = train_test_split(X, y, test_size=0.2, random_state=42)"
   ]
  },
  {
   "cell_type": "markdown",
   "id": "0e36744c-377d-40bc-80b4-a47495e11c1a",
   "metadata": {},
   "source": [
    "## Model"
   ]
  },
  {
   "cell_type": "code",
   "execution_count": 8,
   "id": "aef9fa8a-ac61-40ea-bdfe-d4bda992104e",
   "metadata": {},
   "outputs": [],
   "source": [
    "svm = SVM()"
   ]
  },
  {
   "cell_type": "code",
   "execution_count": 9,
   "id": "ce78d323-f86a-4d71-be0f-a9b18e6b0312",
   "metadata": {},
   "outputs": [
    {
     "name": "stdout",
     "output_type": "stream",
     "text": [
      "iteration: 0, loss: 0.161\n",
      "iteration: 100, loss: 0.034\n",
      "iteration: 200, loss: 0.028\n",
      "iteration: 300, loss: 0.022\n",
      "iteration: 400, loss: 0.017\n",
      "iteration: 500, loss: 0.014\n",
      "iteration: 600, loss: 0.012\n",
      "iteration: 700, loss: 0.010\n",
      "iteration: 800, loss: 0.009\n",
      "iteration: 900, loss: 0.008\n"
     ]
    }
   ],
   "source": [
    "w, b = svm.fit(X_train, y_train)"
   ]
  },
  {
   "cell_type": "code",
   "execution_count": 10,
   "id": "db3bd64a-2c90-4dce-aea5-d12b231fe8ea",
   "metadata": {},
   "outputs": [],
   "source": [
    "preds = svm.predict(X_test)"
   ]
  },
  {
   "cell_type": "code",
   "execution_count": 11,
   "id": "7aec72eb-7c40-453d-b42e-ac0c64a66e5d",
   "metadata": {},
   "outputs": [
    {
     "data": {
      "text/plain": [
       "[0, 0, 0, 0, 0, 1, 0, 1, 0, 1]"
      ]
     },
     "execution_count": 11,
     "metadata": {},
     "output_type": "execute_result"
    }
   ],
   "source": [
    "preds[:10]"
   ]
  },
  {
   "cell_type": "code",
   "execution_count": 12,
   "id": "81b5f3e4-6d39-484a-9e10-809e38b5f4f3",
   "metadata": {},
   "outputs": [
    {
     "data": {
      "text/plain": [
       "array([0, 0, 0, 0, 0, 1, 0, 1, 0, 1])"
      ]
     },
     "execution_count": 12,
     "metadata": {},
     "output_type": "execute_result"
    }
   ],
   "source": [
    "y_test[:10]"
   ]
  },
  {
   "cell_type": "code",
   "execution_count": 13,
   "id": "31f243d9-37df-4fef-8c16-d86f20c17565",
   "metadata": {},
   "outputs": [
    {
     "name": "stdout",
     "output_type": "stream",
     "text": [
      "Accuracy: 100.0%\n"
     ]
    }
   ],
   "source": [
    "from sklearn.metrics import accuracy_score\n",
    "\n",
    "accuracy = accuracy_score(preds, y_test)\n",
    "print(f\"Accuracy: {accuracy*100}%\")"
   ]
  },
  {
   "cell_type": "markdown",
   "id": "f8758838-616c-4999-a0b4-b92d7d382e96",
   "metadata": {},
   "source": [
    "### Plot Hyperplane"
   ]
  },
  {
   "cell_type": "code",
   "execution_count": 14,
   "id": "c85c3c0a-5f54-4f0e-947c-7ab2ecc92450",
   "metadata": {},
   "outputs": [],
   "source": [
    "def get_linear_vector(x, w, b, margin):\n",
    "        return (-w[0]*x + b + margin)/w[1]"
   ]
  },
  {
   "cell_type": "code",
   "execution_count": 15,
   "id": "73499c08-8e3d-4b1a-89fc-45e3eb21f96c",
   "metadata": {},
   "outputs": [],
   "source": [
    "def plot_svm(X, y, w, b):    \n",
    "\n",
    "    plt.scatter(X[:, 0], X[:, 1], c=y)\n",
    "\n",
    "    x_min = min(X[:, 0])\n",
    "    x_max = max(X[:, 0])\n",
    "\n",
    "    x_1 = get_linear_vector(x_min, w, b, 0)\n",
    "    x_2 = get_linear_vector(x_max, w, b, 0)\n",
    "\n",
    "    x_1_up = get_linear_vector(x_min, w, b, -1)\n",
    "    x_2_up = get_linear_vector(x_max, w, b, -1)\n",
    "\n",
    "    x_1_down = get_linear_vector(x_min, w, b, 1)\n",
    "    x_2_down = get_linear_vector(x_max, w, b, 1)\n",
    "\n",
    "    plt.plot([x_min, x_max], [x_1, x_2], 'r')\n",
    "    plt.plot([x_min, x_max], [x_1_up, x_2_up], 'k--')\n",
    "    plt.plot([x_min, x_max], [x_1_down, x_2_down], 'k--')\n",
    "    \n",
    "    plt.show()"
   ]
  },
  {
   "cell_type": "code",
   "execution_count": 16,
   "id": "2d88a5c1-7ca9-44f4-8b4c-410b4f16b96b",
   "metadata": {},
   "outputs": [
    {
     "data": {
      "image/png": "[encoded data removed]",
      "text/plain": [
       "<Figure size 432x288 with 1 Axes>"
      ]
     },
     "metadata": {
      "needs_background": "light"
     },
     "output_type": "display_data"
    }
   ],
   "source": [
    "plot_svm(X_test, y_test, w, b)"
   ]
  },
  {
   "cell_type": "code",
   "execution_count": null,
   "id": "8bedb2b4-cfff-43e2-ac6f-3b0b12f41e6e",
   "metadata": {},
   "outputs": [],
   "source": []
  }
 ],
 "metadata": {
  "kernelspec": {
   "display_name": "Python 3 (ipykernel)",
   "language": "python",
   "name": "python3"
  },
  "language_info": {
   "codemirror_mode": {
    "name": "ipython",
    "version": 3
   },
   "file_extension": ".py",
   "mimetype": "text/x-python",
   "name": "python",
   "nbconvert_exporter": "python",
   "pygments_lexer": "ipython3",
   "version": "3.9.12"
  }
 },
 "nbformat": 4,
 "nbformat_minor": 5
}
